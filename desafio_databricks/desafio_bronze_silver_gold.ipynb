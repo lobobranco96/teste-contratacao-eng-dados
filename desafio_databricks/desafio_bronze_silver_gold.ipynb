{
 "cells": [
  {
   "cell_type": "code",
   "execution_count": 0,
   "metadata": {
    "application/vnd.databricks.v1+cell": {
     "cellMetadata": {
      "byteLimit": 2048000,
      "rowLimit": 10000
     },
     "inputWidgets": {},
     "nuid": "c18209c5-eac1-4045-a478-3fcbfdb53783",
     "showTitle": false,
     "tableResultSettingsMap": {},
     "title": ""
    }
   },
   "outputs": [],
   "source": [
    "from pyspark.sql import SparkSession\n",
    "from pyspark.sql import functions as F"
   ]
  },
  {
   "cell_type": "code",
   "execution_count": 0,
   "metadata": {
    "application/vnd.databricks.v1+cell": {
     "cellMetadata": {
      "byteLimit": 2048000,
      "rowLimit": 10000
     },
     "inputWidgets": {},
     "nuid": "41dbae2c-119b-4e25-8c6e-ad8cbfe508b3",
     "showTitle": false,
     "tableResultSettingsMap": {},
     "title": ""
    }
   },
   "outputs": [],
   "source": [
    "def create_spark_session(app_name: str) -> SparkSession:\n",
    "    spark = SparkSession.builder.appName(app_name).getOrCreate()\n",
    "    return spark"
   ]
  },
  {
   "cell_type": "code",
   "execution_count": 0,
   "metadata": {
    "application/vnd.databricks.v1+cell": {
     "cellMetadata": {
      "byteLimit": 2048000,
      "rowLimit": 10000
     },
     "inputWidgets": {},
     "nuid": "39d6aaff-d7b5-42f5-bd60-79a6f98fd027",
     "showTitle": false,
     "tableResultSettingsMap": {},
     "title": ""
    }
   },
   "outputs": [],
   "source": [
    "app_name = \"Desafio\"\n",
    "spark = create_spark_session(app_name)"
   ]
  },
  {
   "cell_type": "markdown",
   "metadata": {
    "application/vnd.databricks.v1+cell": {
     "cellMetadata": {},
     "inputWidgets": {},
     "nuid": "df4bd9de-e09b-43fc-9753-d3a75e9723e7",
     "showTitle": false,
     "tableResultSettingsMap": {},
     "title": ""
    }
   },
   "source": [
    "## BRONZE"
   ]
  },
  {
   "cell_type": "code",
   "execution_count": 0,
   "metadata": {
    "application/vnd.databricks.v1+cell": {
     "cellMetadata": {
      "byteLimit": 2048000,
      "rowLimit": 10000
     },
     "inputWidgets": {},
     "nuid": "22ac3239-2dea-495f-b836-7bc77b8eab3f",
     "showTitle": false,
     "tableResultSettingsMap": {},
     "title": ""
    }
   },
   "outputs": [],
   "source": [
    "path_arquivo_atendimento = \"/Volumes/workspace/desafio/raw\"\n",
    "\n",
    "df = (spark.read.csv(path_arquivo_atendimento, sep=\"\\t\", header=True))"
   ]
  },
  {
   "cell_type": "code",
   "execution_count": 0,
   "metadata": {
    "application/vnd.databricks.v1+cell": {
     "cellMetadata": {
      "byteLimit": 2048000,
      "rowLimit": 10000
     },
     "inputWidgets": {},
     "nuid": "e81069af-18a8-41fa-9ad5-a149ac976c49",
     "showTitle": false,
     "tableResultSettingsMap": {},
     "title": ""
    }
   },
   "outputs": [],
   "source": [
    "bronze_table = \"workspace.desafio.bronze_tb\"\n",
    "df.write.saveAsTable(bronze_table)"
   ]
  },
  {
   "cell_type": "code",
   "execution_count": 0,
   "metadata": {
    "application/vnd.databricks.v1+cell": {
     "cellMetadata": {
      "byteLimit": 2048000,
      "rowLimit": 10000
     },
     "inputWidgets": {},
     "nuid": "d69a9c36-6026-411a-b370-972883750e3d",
     "showTitle": false,
     "tableResultSettingsMap": {},
     "title": ""
    }
   },
   "outputs": [
    {
     "output_type": "stream",
     "name": "stdout",
     "output_type": "stream",
     "text": [
      "+--------------+----------------+--------------+--------------------+---+---------------------+-----------------+-----------------------+-----------------+---------------+--------------------+---------------+\n|ID_Atendimento|Data_Atendimento|   CPF_Cliente|        Nome_Cliente| UF|Categoria_Atendimento|Canal_Atendimento|Duracao_Atendimento_Min|Valor_Em_Cobranca|Parcelas_Acordo|Situacao_Atendimento|ID_Especialista|\n+--------------+----------------+--------------+--------------------+---+---------------------+-----------------+-----------------------+-----------------+---------------+--------------------+---------------+\n|             1|      2023-11-01|267.845.903-92|        Lucca Mendes| DF|   Cobrança Receptiva|           E-mail|                     42|          3735.89|              3|           Resolvido|           1080|\n|             2|      2024-05-22|351.982.074-97|Dr. Vitor Hugo Ca...| SC|           Negociação|              SMS|                     41|          2754.61|              7|           Resolvido|           1593|\n|             3|      2025-03-10|042.953.716-61| Luiz Otávio Costela| RJ|   Cobrança Receptiva|           E-mail|                     17|          2067.86|              3|            Escalado|           1872|\n|             4|      2024-05-02|974.826.013-50|Sr. Enzo Gabriel ...| RJ|       Acordo Fechado|         WhatsApp|                     40|          4762.14|              8|            Escalado|           1623|\n|             5|      2023-09-21|436.081.527-17|          Isis Jesus| CE|   Cobrança Receptiva|              App|                     41|          4888.73|              7|           Cancelado|           1092|\n|             6|      2023-06-25|234.796.150-07|      Mariana Santos| PR|   Cobrança Receptiva|         WhatsApp|                     33|          2897.79|              1|           Cancelado|           1300|\n|             7|      2024-05-17|581.236.079-03|       Thiago Farias| SC|   Cobrança Receptiva|         Telefone|                     56|            770.5|              3|           Cancelado|           1049|\n|             8|      2025-03-03|814.697.352-37|      Ana Lívia Lima| PE|   Cobrança Receptiva|              SMS|                     22|          1470.41|              5|           Resolvido|           1879|\n|             9|      2024-03-27|087.916.253-86| João Felipe da Rosa| MG|       Cobrança Ativa|              SMS|                      1|          2293.25|              6|            Escalado|           1126|\n|            10|      2024-05-18|421.706.538-80|      Maysa da Rocha| RS|           Negociação|              SMS|                     25|          3702.17|              7|            Pendente|           1208|\n+--------------+----------------+--------------+--------------------+---+---------------------+-----------------+-----------------------+-----------------+---------------+--------------------+---------------+\nonly showing top 10 rows\n"
     ]
    }
   ],
   "source": [
    "spark.sql(f\"\"\" SELECT * FROM {bronze_table}\"\"\").show(10)"
   ]
  },
  {
   "cell_type": "markdown",
   "metadata": {
    "application/vnd.databricks.v1+cell": {
     "cellMetadata": {},
     "inputWidgets": {},
     "nuid": "25130d09-3b2a-4b9b-b046-e036b8de16b1",
     "showTitle": false,
     "tableResultSettingsMap": {},
     "title": ""
    }
   },
   "source": [
    "## SILVER"
   ]
  },
  {
   "cell_type": "code",
   "execution_count": 0,
   "metadata": {
    "application/vnd.databricks.v1+cell": {
     "cellMetadata": {
      "byteLimit": 2048000,
      "rowLimit": 10000
     },
     "inputWidgets": {},
     "nuid": "a25ac361-3980-4b0c-b4f3-98f55671ddef",
     "showTitle": false,
     "tableResultSettingsMap": {},
     "title": ""
    }
   },
   "outputs": [
    {
     "output_type": "execute_result",
     "data": {
      "text/plain": [
       "<bound method DataFrame.printSchema of DataFrame[ID_Atendimento: string, Data_Atendimento: string, CPF_Cliente: string, Nome_Cliente: string, UF: string, Categoria_Atendimento: string, Canal_Atendimento: string, Duracao_Atendimento_Min: string, Valor_Em_Cobranca: string, Parcelas_Acordo: string, Situacao_Atendimento: string, ID_Especialista: string]>"
      ]
     },
     "execution_count": 33,
     "metadata": {},
     "output_type": "execute_result"
    }
   ],
   "source": [
    "# Path\n",
    "bronze_table = \"workspace.desafio.bronze_tb\"\n",
    "\n",
    "(spark.read.table(bronze_table).printSchema)\n"
   ]
  },
  {
   "cell_type": "markdown",
   "metadata": {
    "application/vnd.databricks.v1+cell": {
     "cellMetadata": {},
     "inputWidgets": {},
     "nuid": "9ea4d1be-46ba-44cc-8fa8-e28f1cf568e5",
     "showTitle": false,
     "tableResultSettingsMap": {},
     "title": ""
    }
   },
   "source": [
    "Data Types esperados: \n",
    "  - ID_Atendimento:**integer**, \n",
    "  - Data_Atendimento:**date**,\n",
    "  - CPF_Cliente:**string**,\n",
    "  - Nome_Cliente:**string**,\n",
    "  - UF:**string**,\n",
    "  - Categoria_Atendimento:**string**,\n",
    "  - Canal_Atendimento:**string**,\n",
    "  - Duracao_Atendimento_Min:**integer**,\n",
    "  - Valor_Em_Cobranca:**double**,\n",
    "  - Parcelas_Acordo:**integer**,\n",
    "  - Situacao_Atendimento:**string**,\n",
    "  - ID_Especialista:**integer**"
   ]
  },
  {
   "cell_type": "code",
   "execution_count": 0,
   "metadata": {
    "application/vnd.databricks.v1+cell": {
     "cellMetadata": {
      "byteLimit": 2048000,
      "rowLimit": 10000
     },
     "inputWidgets": {},
     "nuid": "236d1c8d-4a0c-43d5-bc64-34e1f77d9a82",
     "showTitle": false,
     "tableResultSettingsMap": {},
     "title": ""
    }
   },
   "outputs": [],
   "source": [
    "def silver_layer(spark: SparkSession, bronze_table: str):\n",
    "  df = spark.read.table(bronze_table)\n",
    "\n",
    "  df = df.withColumn(\"ID_Atendimento\", F.col(\"ID_Atendimento\").cast(\"int\")) \\\n",
    "                    .withColumn(\"Data_Atendimento\", F.to_date(F.col(\"Data_Atendimento\")))\\\n",
    "                    .withColumn(\"Valor_Em_Cobranca\", F.col(\"Valor_Em_Cobranca\").cast(\"double\"))\\\n",
    "                    .withColumn(\"Parcelas_Acordo\", F.col(\"Parcelas_Acordo\").cast(\"double\"))\\\n",
    "                    .withColumn(\"Duracao_Atendimento_Min\", F.col(\"Duracao_Atendimento_Min\"))\n",
    "  \n",
    "  df_medio_por_especialista = df.groupBy(\"ID_Especialista\") \\\n",
    "    .agg(F.avg(\"Duracao_Atendimento_Min\").alias(\"Tempo_Medio_Atendimento_Min\"))\n",
    "\n",
    "  # Flag Fechou_Acordo\n",
    "  df = df.withColumn(\n",
    "      \"Fechou_Acordo\",\n",
    "      F.when(\n",
    "          (F.col(\"Situacao_Atendimento\") == \"Resolvido\") &\n",
    "          (F.col(\"Categoria_Atendimento\") == \"Acordo Fechado\"), \n",
    "          True\n",
    "      ).otherwise(False)\n",
    "  )\n",
    "\n",
    "  # Unir os dados de tempo médio com a tabela Silver\n",
    "  df_final = df.join(df_medio_por_especialista, on=\"ID_Especialista\", how=\"left\")\n",
    "\n",
    "  return df_final\n",
    "\n",
    "# Path\n",
    "silver_table = \"workspace.desafio.silver_tb\"\n",
    "\n",
    "silver_df = silver_layer(spark, bronze_table)\n",
    "silver_df.write.saveAsTable(silver_table)"
   ]
  },
  {
   "cell_type": "code",
   "execution_count": 0,
   "metadata": {
    "application/vnd.databricks.v1+cell": {
     "cellMetadata": {
      "byteLimit": 2048000,
      "rowLimit": 10000
     },
     "inputWidgets": {},
     "nuid": "2b0ad1ae-2010-4517-9f8f-6a285ad6cb75",
     "showTitle": false,
     "tableResultSettingsMap": {},
     "title": ""
    }
   },
   "outputs": [
    {
     "output_type": "stream",
     "name": "stdout",
     "output_type": "stream",
     "text": [
      "+---------------+--------------+----------------+--------------+--------------------+---+---------------------+-----------------+-----------------------+-----------------+---------------+--------------------+-------------+---------------------------+\n|ID_Especialista|ID_Atendimento|Data_Atendimento|   CPF_Cliente|        Nome_Cliente| UF|Categoria_Atendimento|Canal_Atendimento|Duracao_Atendimento_Min|Valor_Em_Cobranca|Parcelas_Acordo|Situacao_Atendimento|Fechou_Acordo|Tempo_Medio_Atendimento_Min|\n+---------------+--------------+----------------+--------------+--------------------+---+---------------------+-----------------+-----------------------+-----------------+---------------+--------------------+-------------+---------------------------+\n|           1080|             1|      2023-11-01|267.845.903-92|        Lucca Mendes| DF|   Cobrança Receptiva|           E-mail|                     42|          3735.89|            3.0|           Resolvido|        false|         29.103846153846153|\n|           1593|             2|      2024-05-22|351.982.074-97|Dr. Vitor Hugo Ca...| SC|           Negociação|              SMS|                     41|          2754.61|            7.0|           Resolvido|        false|          30.59607843137255|\n|           1872|             3|      2025-03-10|042.953.716-61| Luiz Otávio Costela| RJ|   Cobrança Receptiva|           E-mail|                     17|          2067.86|            3.0|            Escalado|        false|         32.011673151750976|\n|           1623|             4|      2024-05-02|974.826.013-50|Sr. Enzo Gabriel ...| RJ|       Acordo Fechado|         WhatsApp|                     40|          4762.14|            8.0|            Escalado|        false|          29.18503937007874|\n|           1092|             5|      2023-09-21|436.081.527-17|          Isis Jesus| CE|   Cobrança Receptiva|              App|                     41|          4888.73|            7.0|           Cancelado|        false|         30.079166666666666|\n|           1300|             6|      2023-06-25|234.796.150-07|      Mariana Santos| PR|   Cobrança Receptiva|         WhatsApp|                     33|          2897.79|            1.0|           Cancelado|        false|         31.235772357723576|\n|           1049|             7|      2024-05-17|581.236.079-03|       Thiago Farias| SC|   Cobrança Receptiva|         Telefone|                     56|            770.5|            3.0|           Cancelado|        false|         30.419607843137253|\n|           1879|             8|      2025-03-03|814.697.352-37|      Ana Lívia Lima| PE|   Cobrança Receptiva|              SMS|                     22|          1470.41|            5.0|           Resolvido|        false|         28.391472868217054|\n|           1126|             9|      2024-03-27|087.916.253-86| João Felipe da Rosa| MG|       Cobrança Ativa|              SMS|                      1|          2293.25|            6.0|            Escalado|        false|         30.201438848920862|\n|           1208|            10|      2024-05-18|421.706.538-80|      Maysa da Rocha| RS|           Negociação|              SMS|                     25|          3702.17|            7.0|            Pendente|        false|         28.301960784313724|\n+---------------+--------------+----------------+--------------+--------------------+---+---------------------+-----------------+-----------------------+-----------------+---------------+--------------------+-------------+---------------------------+\nonly showing top 10 rows\n"
     ]
    }
   ],
   "source": [
    "(spark.sql(f\"\"\" SELECT * FROM {silver_table}\"\"\").show(10))"
   ]
  },
  {
   "cell_type": "markdown",
   "metadata": {
    "application/vnd.databricks.v1+cell": {
     "cellMetadata": {},
     "inputWidgets": {},
     "nuid": "0f6ab9dd-0585-4d1b-b33a-f175a2a7f226",
     "showTitle": false,
     "tableResultSettingsMap": {},
     "title": ""
    }
   },
   "source": [
    "## GOLD"
   ]
  },
  {
   "cell_type": "code",
   "execution_count": 0,
   "metadata": {
    "application/vnd.databricks.v1+cell": {
     "cellMetadata": {
      "byteLimit": 2048000,
      "rowLimit": 10000
     },
     "inputWidgets": {},
     "nuid": "1a0d4431-b675-4df2-a5a9-8876736767b2",
     "showTitle": false,
     "tableResultSettingsMap": {},
     "title": ""
    }
   },
   "outputs": [],
   "source": [
    "def gold_layer(spark: SparkSession, silver_table: str):\n",
    "  df = (spark.read.table(silver_table))\n",
    "\n",
    "  # Extrair o mês e ano da coluna Data_Atendimento\n",
    "  df_gold = df.withColumn(\n",
    "    \"Ano_Mes\", \n",
    "    F.date_format(F.col(\"Data_Atendimento\"), \"yyyy-MM\")  # Formato \"Ano-Mês\"\n",
    ")\n",
    "\n",
    "  # Agregar as métricas por UF e Ano-Mês\n",
    "  df_gold_agg = df_gold.groupBy(\"UF\", \"Ano_Mes\").agg(\n",
    "      F.count(\"ID_Atendimento\").alias(\"Total_Atendimentos\"),\n",
    "      F.avg(\"Valor_Em_Cobranca\").alias(\"Valor_Medio_Em_Cobranca\"),\n",
    "      # % de acordos fechados\n",
    "      (F.sum(F.when(F.col(\"Fechou_Acordo\") == True, 1).otherwise(0)) / F.count(\"ID_Atendimento\") * 100).alias(\"Percentual_Acordos_Fechados\")\n",
    "  )\n",
    "\n",
    "  return df_gold_agg\n",
    "\n",
    "def salvar_delta(df, gold_table: str):\n",
    "  return df.write.format(\"delta\").mode(\"overwrite\").saveAsTable(gold_table)\n",
    "\n",
    "\n",
    "# Path\n",
    "silver_table = \"workspace.desafio.silver_tb\"\n",
    "gold_table_name = \"workspace.desafio.gold_tb\"\n",
    "\n",
    "df_gold = gold_layer(spark, silver_table)\n",
    "salvar_delta(df_gold, gold_table_name)"
   ]
  },
  {
   "cell_type": "code",
   "execution_count": 0,
   "metadata": {
    "application/vnd.databricks.v1+cell": {
     "cellMetadata": {
      "byteLimit": 2048000,
      "rowLimit": 10000
     },
     "inputWidgets": {},
     "nuid": "349859d4-f84a-44b8-a419-4dcd590dd903",
     "showTitle": false,
     "tableResultSettingsMap": {},
     "title": ""
    }
   },
   "outputs": [
    {
     "output_type": "stream",
     "name": "stdout",
     "output_type": "stream",
     "text": [
      "+---+-------+------------------+-----------------------+---------------------------+\n| UF|Ano_Mes|Total_Atendimentos|Valor_Medio_Em_Cobranca|Percentual_Acordos_Fechados|\n+---+-------+------------------+-----------------------+---------------------------+\n| BA|2023-11|              1008|      2577.343214285716|          4.761904761904762|\n| RJ|2024-11|               956|     2548.2474267782436|          4.497907949790795|\n| MG|2023-08|              1068|     2475.0291292134857|          4.588014981273409|\n| RJ|2025-01|              1082|     2564.3735120147853|         5.0831792975970425|\n| MG|2023-11|              1052|      2530.586055133082|          4.942965779467681|\n| RS|2025-06|               568|     2530.2885563380273|          5.809859154929577|\n| CE|2023-12|              1068|     2567.2138202247197|           4.49438202247191|\n| PR|2023-06|               467|     2575.7170235546005|          5.139186295503212|\n| MG|2023-07|              1007|     2585.9442899702035|          4.270109235352533|\n| RS|2025-04|              1047|     2525.1862464183378|          5.348615090735435|\n| SP|2024-07|              1059|     2555.5617374881967|          4.721435316336167|\n| MG|2024-05|              1127|      2505.113043478259|          5.412599822537711|\n| CE|2024-04|              1014|      2617.846735700198|          5.325443786982249|\n| RJ|2024-12|              1088|      2527.493428308823|          4.963235294117647|\n| PR|2025-03|              1021|      2650.436904995103|          4.407443682664055|\n| SC|2023-09|              1022|      2446.989677103721|          4.500978473581213|\n| RS|2024-01|              1057|      2519.581911069062|          4.635761589403973|\n| MG|2024-01|              1053|     2543.4493067426415|            5.0332383665717|\n| MG|2024-08|              1074|     2554.7707821229105|         4.8417132216014895|\n| SC|2024-08|              1022|     2522.4313992172147|         4.6966731898238745|\n+---+-------+------------------+-----------------------+---------------------------+\nonly showing top 20 rows\n"
     ]
    }
   ],
   "source": [
    "(spark.sql(f\"\"\" SELECT * FROM {gold_table_name}\"\"\").show())"
   ]
  },
  {
   "cell_type": "code",
   "execution_count": 0,
   "metadata": {
    "application/vnd.databricks.v1+cell": {
     "cellMetadata": {},
     "inputWidgets": {},
     "nuid": "9f4ff150-9a07-4d23-8445-542fd640c8f1",
     "showTitle": false,
     "tableResultSettingsMap": {},
     "title": ""
    }
   },
   "outputs": [],
   "source": []
  }
 ],
 "metadata": {
  "application/vnd.databricks.v1+notebook": {
   "computePreferences": null,
   "dashboards": [],
   "environmentMetadata": {
    "base_environment": "",
    "environment_version": "2"
   },
   "inputWidgetPreferences": null,
   "language": "python",
   "notebookMetadata": {
    "pythonIndentUnit": 4
   },
   "notebookName": "desafio_bronze_silver_gold",
   "widgets": {}
  },
  "language_info": {
   "name": "python"
  }
 },
 "nbformat": 4,
 "nbformat_minor": 0
}